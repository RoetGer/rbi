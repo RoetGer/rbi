{
  "nbformat": 4,
  "nbformat_minor": 0,
  "metadata": {
    "colab": {
      "name": "05-Segmentation.ipynb",
      "provenance": [],
      "collapsed_sections": []
    },
    "kernelspec": {
      "name": "python3",
      "display_name": "Python 3"
    },
    "accelerator": "GPU"
  },
  "cells": [
    {
      "cell_type": "markdown",
      "metadata": {
        "id": "2ZvpqTF0CUDJ",
        "colab_type": "text"
      },
      "source": [
        "# Image segmentation\n",
        "\n",
        "In this notebook we will learn how to create an image segmentation model based on the U-Net neural network.\n",
        "\n",
        "![unet](https://github.com/jirimaterna/image-processing-2days/blob/master/images/unet.png?raw=1)"
      ]
    },
    {
      "cell_type": "markdown",
      "metadata": {
        "id": "eozEkbVmBie_",
        "colab_type": "text"
      },
      "source": [
        "Download data from the Git repository"
      ]
    },
    {
      "cell_type": "code",
      "metadata": {
        "id": "9xl2miKSTyOP",
        "colab_type": "code",
        "colab": {}
      },
      "source": [
        "!wget --output-document membrane.zip https://github.com/mlcollege/rbi/blob/master/flagship/Deep-Learning-and-Image-Processing/data/membrane.zip?raw=true\n",
        "!wget --output-document unet_membrane.hdf5 https://github.com/mlcollege/rbi/blob/master/flagship/Deep-Learning-and-Image-Processing/models/unet_membrane.hdf5?raw=true\n",
        "!unzip -o membrane.zip"
      ],
      "execution_count": null,
      "outputs": []
    },
    {
      "cell_type": "markdown",
      "metadata": {
        "id": "u1g5HxDMGwah",
        "colab_type": "text"
      },
      "source": [
        "Data preparation rutines"
      ]
    },
    {
      "cell_type": "code",
      "metadata": {
        "id": "AuLpvT9ic0tf",
        "colab_type": "code",
        "colab": {}
      },
      "source": [
        "from keras.preprocessing.image import ImageDataGenerator\n",
        "\n",
        "def dataGenerator(dataPath, sourceFolder, targetFolder, shape, augDict, batchSize=1, seed=1):\n",
        "    source_datagen = ImageDataGenerator(**augDict)\n",
        "    target_datagen = ImageDataGenerator(**augDict)\n",
        "    sourceGenerator = source_datagen.flow_from_directory(\n",
        "            dataPath,\n",
        "            classes = [sourceFolder],\n",
        "            class_mode = None,\n",
        "            color_mode = 'grayscale',\n",
        "            target_size = shape,\n",
        "            batch_size = batchSize,\n",
        "            seed=seed\n",
        "        )\n",
        "    \n",
        "    targetGenerator = target_datagen.flow_from_directory(\n",
        "            dataPath,\n",
        "            classes = [targetFolder],\n",
        "            class_mode = None,\n",
        "            color_mode = 'grayscale',\n",
        "            target_size = shape,\n",
        "            batch_size = batchSize,\n",
        "            seed = seed,\n",
        "        )\n",
        "\n",
        "    generator = zip(sourceGenerator, targetGenerator)\n",
        "    for (img, mask) in generator:\n",
        "        img = img / 255\n",
        "        mask = mask /255\n",
        "        mask[mask > 0.5] = 1\n",
        "        mask[mask <= 0.5] = 0\n",
        "        yield (img, mask)\n"
      ],
      "execution_count": 2,
      "outputs": []
    },
    {
      "cell_type": "markdown",
      "metadata": {
        "id": "Dws-jNKbG3R9",
        "colab_type": "text"
      },
      "source": [
        "Unet model definition"
      ]
    },
    {
      "cell_type": "code",
      "metadata": {
        "id": "i1vmZoDHWNoO",
        "colab_type": "code",
        "colab": {}
      },
      "source": [
        "import numpy as np \n",
        "from keras.models import *\n",
        "from keras.layers import *\n",
        "from keras.optimizers import Adam\n",
        "from keras.callbacks import ModelCheckpoint\n",
        "from keras import backend as keras\n",
        "\n",
        "inputs = Input((256,256,1))\n",
        "conv1 = Conv2D(64, 3, activation = 'relu', padding = 'same', kernel_initializer = 'he_normal')(inputs)\n",
        "conv1 = Conv2D(64, 3, activation = 'relu', padding = 'same', kernel_initializer = 'he_normal')(conv1)\n",
        "pool1 = MaxPooling2D(pool_size=(2, 2))(conv1)\n",
        "conv2 = Conv2D(128, 3, activation = 'relu', padding = 'same', kernel_initializer = 'he_normal')(pool1)\n",
        "conv2 = Conv2D(128, 3, activation = 'relu', padding = 'same', kernel_initializer = 'he_normal')(conv2)\n",
        "pool2 = MaxPooling2D(pool_size=(2, 2))(conv2)\n",
        "conv3 = Conv2D(256, 3, activation = 'relu', padding = 'same', kernel_initializer = 'he_normal')(pool2)\n",
        "conv3 = Conv2D(256, 3, activation = 'relu', padding = 'same', kernel_initializer = 'he_normal')(conv3)\n",
        "pool3 = MaxPooling2D(pool_size=(2, 2))(conv3)\n",
        "conv4 = Conv2D(512, 3, activation = 'relu', padding = 'same', kernel_initializer = 'he_normal')(pool3)\n",
        "conv4 = Conv2D(512, 3, activation = 'relu', padding = 'same', kernel_initializer = 'he_normal')(conv4)\n",
        "drop4 = Dropout(0.5)(conv4)\n",
        "pool4 = MaxPooling2D(pool_size=(2, 2))(drop4)\n",
        "\n",
        "conv5 = Conv2D(1024, 3, activation = 'relu', padding = 'same', kernel_initializer = 'he_normal')(pool4)\n",
        "conv5 = Conv2D(1024, 3, activation = 'relu', padding = 'same', kernel_initializer = 'he_normal')(conv5)\n",
        "drop5 = Dropout(0.5)(conv5)\n",
        "\n",
        "up6 = Conv2D(512, 2, activation = 'relu', padding = 'same', kernel_initializer = 'he_normal')(UpSampling2D(size = (2,2))(drop5))\n",
        "merge6 = concatenate([drop4,up6],axis = 3)\n",
        "conv6 = Conv2D(512, 3, activation = 'relu', padding = 'same', kernel_initializer = 'he_normal')(merge6)\n",
        "conv6 = Conv2D(512, 3, activation = 'relu', padding = 'same', kernel_initializer = 'he_normal')(conv6)\n",
        "\n",
        "up7 = Conv2D(256, 2, activation = 'relu', padding = 'same', kernel_initializer = 'he_normal')(UpSampling2D(size = (2,2))(conv6))\n",
        "merge7 = concatenate([conv3,up7], axis = 3)\n",
        "conv7 = Conv2D(256, 3, activation = 'relu', padding = 'same', kernel_initializer = 'he_normal')(merge7)\n",
        "conv7 = Conv2D(256, 3, activation = 'relu', padding = 'same', kernel_initializer = 'he_normal')(conv7)\n",
        "\n",
        "up8 = Conv2D(128, 2, activation = 'relu', padding = 'same', kernel_initializer = 'he_normal')(UpSampling2D(size = (2,2))(conv7))\n",
        "merge8 = concatenate([conv2,up8], axis = 3)\n",
        "conv8 = Conv2D(128, 3, activation = 'relu', padding = 'same', kernel_initializer = 'he_normal')(merge8)\n",
        "conv8 = Conv2D(128, 3, activation = 'relu', padding = 'same', kernel_initializer = 'he_normal')(conv8)\n",
        "\n",
        "up9 = Conv2D(64, 2, activation = 'relu', padding = 'same', kernel_initializer = 'he_normal')(UpSampling2D(size = (2,2))(conv8))\n",
        "merge9 = concatenate([conv1,up9], axis = 3)\n",
        "conv9 = Conv2D(64, 3, activation = 'relu', padding = 'same', kernel_initializer = 'he_normal')(merge9)\n",
        "conv9 = Conv2D(64, 3, activation = 'relu', padding = 'same', kernel_initializer = 'he_normal')(conv9)\n",
        "conv9 = Conv2D(2, 3, activation = 'relu', padding = 'same', kernel_initializer = 'he_normal')(conv9)\n",
        "conv10 = Conv2D(1, 1, activation = 'sigmoid')(conv9)\n",
        "\n",
        "model = Model(inputs = inputs, outputs = conv10)\n",
        "\n",
        "model.compile(optimizer = Adam(lr = 1e-4), loss = 'binary_crossentropy', metrics = ['accuracy'])\n",
        "    \n",
        "model.load_weights('unet_membrane.hdf5')\n",
        "\n",
        "#model.summary()"
      ],
      "execution_count": 3,
      "outputs": []
    },
    {
      "cell_type": "markdown",
      "metadata": {
        "id": "4ApZRExHHDSt",
        "colab_type": "text"
      },
      "source": [
        "Train the model"
      ]
    },
    {
      "cell_type": "code",
      "metadata": {
        "id": "i-N4VAx4atyu",
        "colab_type": "code",
        "colab": {}
      },
      "source": [
        "checkpoint = ModelCheckpoint('unet_membrane.hdf5', monitor='loss',verbose=1, save_best_only=True)\n",
        "\n",
        "dataAugmentation = dict(rotation_range=0.2,\n",
        "                    width_shift_range=0.05,\n",
        "                    height_shift_range=0.05,\n",
        "                    shear_range=0.05,\n",
        "                    zoom_range=0.05,\n",
        "                    horizontal_flip=True,\n",
        "                    fill_mode='nearest')\n",
        "\n",
        "generator = dataGenerator('membrane/train','image','label', (256, 256), dataAugmentation)\n",
        "\n",
        "#model.fit_generator(generator, steps_per_epoch=2000, epochs=5, callbacks=[checkpoint])\n"
      ],
      "execution_count": 4,
      "outputs": []
    },
    {
      "cell_type": "markdown",
      "metadata": {
        "id": "D_lHz048Jjoj",
        "colab_type": "text"
      },
      "source": [
        "Predict on test data"
      ]
    },
    {
      "cell_type": "code",
      "metadata": {
        "id": "vrI4Vn7_MOMy",
        "colab_type": "code",
        "colab": {}
      },
      "source": [
        "import matplotlib.pyplot as plt\n",
        "import cv2\n",
        "\n",
        "testPath = 'membrane/test/'\n",
        "\n",
        "for f in os.listdir(testPath):\n",
        "    source = io.imread(testPath + f, as_gray=True)\n",
        "    source = cv2.resize(source, (256, 256))\n",
        "    batch = source[np.newaxis, :, :, np.newaxis]\n",
        "    batch = batch / 255\n",
        "    pred = model.predict(batch) * 255\n",
        "\n",
        "    f, ax = plt.subplots(1, 2, figsize=(10,10))\n",
        "\n",
        "    ax[0].imshow(source, cmap='Greys')\n",
        "    ax[1].imshow(pred[0,:,:,0], cmap='Greys')\n",
        "\n",
        "    ax[0].set_title('source')  \n",
        "    ax[1].set_title('prediction')\n",
        "\n",
        "    plt.tight_layout()\n",
        "    plt.show()\n",
        "\n"
      ],
      "execution_count": null,
      "outputs": []
    }
  ]
}
