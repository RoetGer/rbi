{
  "nbformat": 4,
  "nbformat_minor": 0,
  "metadata": {
    "colab": {
      "name": "12-Hate-speech-classification-assignment.ipynb",
      "provenance": []
    },
    "kernelspec": {
      "name": "python3",
      "display_name": "Python 3"
    },
    "accelerator": "GPU"
  },
  "cells": [
    {
      "cell_type": "markdown",
      "metadata": {
        "id": "LABibdU-Y1qq"
      },
      "source": [
        "# Hate speech classification\n"
      ]
    },
    {
      "cell_type": "markdown",
      "metadata": {
        "id": "vhBVbIMcY9fg"
      },
      "source": [
        "\n",
        "Your goal is to create a text classifier of hate speech or offensive language in internet discussions. It is a binary classfication task with the goal of achieving at least 90% recall. We will try to optimize precision for this recall threshold. The original data set comes from Kaggle."
      ]
    },
    {
      "cell_type": "markdown",
      "metadata": {
        "id": "klojB-WZakij"
      },
      "source": [
        "## Data preparation"
      ]
    },
    {
      "cell_type": "code",
      "metadata": {
        "id": "TMMwONKuY8O_",
        "outputId": "5b527517-353c-4550-cd34-52bc341c6654",
        "colab": {
          "base_uri": "https://localhost:8080/"
        }
      },
      "source": [
        "!gdown https://drive.google.com/uc?id=1FH5aPpWamiew6iVUd6HGQ7lvc2IaqLCO"
      ],
      "execution_count": null,
      "outputs": [
        {
          "output_type": "stream",
          "text": [
            "Downloading...\n",
            "From: https://drive.google.com/uc?id=1FH5aPpWamiew6iVUd6HGQ7lvc2IaqLCO\n",
            "To: /content/hatespeech.txt\n",
            "48.5MB [00:00, 94.2MB/s]\n"
          ],
          "name": "stdout"
        }
      ]
    },
    {
      "cell_type": "code",
      "metadata": {
        "id": "5UagR2yaaUxe",
        "outputId": "8598bb6a-f41b-4185-f150-640535cdfcb6",
        "colab": {
          "base_uri": "https://localhost:8080/"
        }
      },
      "source": [
        "import pandas as pd\n",
        "\n",
        "data = pd.read_csv('hatespeech.txt')\n",
        "target = data['label']\n",
        "data = data['text']\n",
        "data.head()"
      ],
      "execution_count": null,
      "outputs": [
        {
          "output_type": "execute_result",
          "data": {
            "text/plain": [
              "0    `- This is not ``creative``.  Those are the di...\n",
              "1    `  :: the term ``standard model`` is itself le...\n",
              "2      True or false, the situation as of March 200...\n",
              "3     Next, maybe you could work on being less cond...\n",
              "4                 This page will need disambiguation. \n",
              "Name: text, dtype: object"
            ]
          },
          "metadata": {
            "tags": []
          },
          "execution_count": 2
        }
      ]
    },
    {
      "cell_type": "code",
      "metadata": {
        "id": "EUIW7xksbKnc",
        "outputId": "fd59f2f0-02e3-41ca-a023-2f9cca8111e9",
        "colab": {
          "base_uri": "https://localhost:8080/"
        }
      },
      "source": [
        "from sklearn.model_selection import train_test_split\n",
        "\n",
        "X_train, X_test, y_train, y_test = train_test_split(data, target, test_size=0.2, random_state=42)\n",
        "print('Train size: {}'.format(len(X_train)))\n",
        "print('Test size: {}'.format(len(X_test)))"
      ],
      "execution_count": null,
      "outputs": [
        {
          "output_type": "stream",
          "text": [
            "Train size: 92691\n",
            "Test size: 23173\n"
          ],
          "name": "stdout"
        }
      ]
    },
    {
      "cell_type": "code",
      "metadata": {
        "id": "pFT7kTP-swsT"
      },
      "source": [
        "min_recall = 0.9"
      ],
      "execution_count": null,
      "outputs": []
    },
    {
      "cell_type": "markdown",
      "metadata": {
        "id": "Q7CQS12ub74V"
      },
      "source": [
        "## Task 1: Conventional classifier\n",
        "\n",
        "Implement the classifier using a conventional method such as Support Vector machines, Random Forest or Gradient Boosted Trees. Evaluate the overall quality of the model using standard metrics. Then modify the model to have 90% recall and report the corresponding precision."
      ]
    },
    {
      "cell_type": "code",
      "metadata": {
        "id": "dNio8TjNwOOA"
      },
      "source": [
        "# TODO"
      ],
      "execution_count": null,
      "outputs": []
    },
    {
      "cell_type": "markdown",
      "metadata": {
        "id": "d4mh1_Jwp-RG"
      },
      "source": [
        "## Task 2: Convolutional neural network classifier\n",
        "\n",
        "Implement a neural network classifier with a convolution over text sequences."
      ]
    },
    {
      "cell_type": "code",
      "metadata": {
        "id": "cfL6fEtex344"
      },
      "source": [
        "# TODO"
      ],
      "execution_count": null,
      "outputs": []
    },
    {
      "cell_type": "markdown",
      "metadata": {
        "id": "45HeVVO-xz8Z"
      },
      "source": [
        "## Task 3: Recurrent neural network classifier\n",
        "\n",
        "Implement a neural network classifier with LSTM or GRU layers."
      ]
    },
    {
      "cell_type": "code",
      "metadata": {
        "id": "htq1gnETxh8_"
      },
      "source": [
        "# TODO"
      ],
      "execution_count": null,
      "outputs": []
    },
    {
      "cell_type": "markdown",
      "metadata": {
        "id": "OOXb5w4v_fdm"
      },
      "source": [
        "## Task 4: BERT classifier\n",
        "\n",
        "Implement a transofmer–based classifier unsing the BERT model."
      ]
    },
    {
      "cell_type": "code",
      "metadata": {
        "id": "YTXsqRfp1Bzf"
      },
      "source": [
        "# TODO"
      ],
      "execution_count": null,
      "outputs": []
    }
  ]
}