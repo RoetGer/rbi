{
  "nbformat": 4,
  "nbformat_minor": 0,
  "metadata": {
    "colab": {
      "name": "09-Generative-linear-regression-edward.ipynb",
      "provenance": []
    },
    "kernelspec": {
      "name": "python3",
      "display_name": "Python 3"
    },
    "accelerator": "GPU"
  },
  "cells": [
    {
      "cell_type": "markdown",
      "metadata": {
        "id": "ZfraknfEKXGa"
      },
      "source": [
        "# Generative approach to linear regression"
      ]
    },
    {
      "cell_type": "markdown",
      "metadata": {
        "id": "4rr9VpWlKdMt"
      },
      "source": [
        "## Install edward"
      ]
    },
    {
      "cell_type": "code",
      "metadata": {
        "id": "mPB5pcfoaWJ-"
      },
      "source": [
        "!pip install tensorflow==1.5.0\n",
        "!pip install edward"
      ],
      "execution_count": null,
      "outputs": []
    },
    {
      "cell_type": "markdown",
      "metadata": {
        "id": "8bBK8UEOBQ6E"
      },
      "source": [
        "## Generate artificial data set"
      ]
    },
    {
      "cell_type": "code",
      "metadata": {
        "id": "iQ4qj1eGaq7e"
      },
      "source": [
        "import numpy as np\n",
        "\n",
        "#y = ax + b\n",
        "noise_std = 1.0\n",
        "a = 4.0\n",
        "b = -2.0\n",
        "train_samples = 5000\n",
        "test_samples = 1000\n",
        "\n",
        "X_train = np.random.uniform(low = -5, high = 5, size = [train_samples, 1])\n",
        "X_test = np.random.uniform(low = -5, high = 5, size = [test_samples, 1])\n",
        "\n",
        "y_train = np.dot(X_train[:,0], a) + b + np.random.normal(0, noise_std, size=train_samples)\n",
        "y_test = np.dot(X_test[:,0], a) + b"
      ],
      "execution_count": 2,
      "outputs": []
    },
    {
      "cell_type": "code",
      "metadata": {
        "id": "ZM73Y8inBLQ5",
        "outputId": "9909b2f4-fffb-4eab-f3fb-ed45733d3d30",
        "colab": {
          "base_uri": "https://localhost:8080/",
          "height": 279
        }
      },
      "source": [
        "import matplotlib.pyplot as plt\n",
        "plt.scatter(X_train[:20,0], y_train[:20])\n",
        "plt.plot(X_train[:20,0], np.dot(X_train[:20,0], a) + b)\n",
        "plt.xlabel('x value')\n",
        "plt.ylabel('y value')\n",
        "plt.show()"
      ],
      "execution_count": 3,
      "outputs": [
        {
          "output_type": "display_data",
          "data": {
            "image/png": "[encoded data removed]",
            "text/plain": [
              "<Figure size 432x288 with 1 Axes>"
            ]
          },
          "metadata": {
            "tags": [],
            "needs_background": "light"
          }
        }
      ]
    },
    {
      "cell_type": "markdown",
      "metadata": {
        "id": "C1s0v7SVE0S3"
      },
      "source": [
        "## Define the generative model"
      ]
    },
    {
      "cell_type": "code",
      "metadata": {
        "id": "lwGLPu3qCfuO"
      },
      "source": [
        "import tensorflow as tf\n",
        "import edward as ed\n",
        "from edward.models import Normal\n",
        "\n",
        "X = tf.placeholder(tf.float32, [train_samples, 1])\n",
        "a = Normal(loc=tf.zeros(1), scale=tf.ones(1))\n",
        "b = Normal(loc=tf.zeros(1), scale=tf.ones(1))\n",
        "y = Normal(loc=ed.dot(X, a) + b, scale=tf.ones(train_samples))"
      ],
      "execution_count": null,
      "outputs": []
    },
    {
      "cell_type": "markdown",
      "metadata": {
        "id": "A5G7giYaM1DP"
      },
      "source": [
        "## Variational inference\n",
        "\n",
        "We define the variational model to be a fully factorized normal across the weights (qa and qb represent the posteriors of a and b respectively). "
      ]
    },
    {
      "cell_type": "code",
      "metadata": {
        "id": "CGwE--1ptPbV"
      },
      "source": [
        "qa = Normal(loc=tf.get_variable(\"qa/loc\", [1]), scale=tf.get_variable(\"qa/scale\", [1]))\n",
        "qb = Normal(loc=tf.get_variable(\"qb/loc\", [1]), scale=tf.get_variable(\"qb/scale\", [1]))"
      ],
      "execution_count": 5,
      "outputs": []
    },
    {
      "cell_type": "markdown",
      "metadata": {
        "id": "R1jBDyYhNQGh"
      },
      "source": [
        "Run variational inference with the Kullback-Leibler divergence."
      ]
    },
    {
      "cell_type": "code",
      "metadata": {
        "id": "8GM6wcHaQJV8"
      },
      "source": [
        "inference = ed.KLqp({a: qa, b: qb}, data={X: X_train, y: y_train})\n",
        "inference.run(n_iter=2000)"
      ],
      "execution_count": null,
      "outputs": []
    },
    {
      "cell_type": "markdown",
      "metadata": {
        "id": "iu7ZyBOuQ689"
      },
      "source": [
        "Print out the estimated parameters."
      ]
    },
    {
      "cell_type": "code",
      "metadata": {
        "id": "Z5K2Pr1jQSDf",
        "outputId": "a18c2d01-b1e4-485f-ccc5-2202eb52ebc7",
        "colab": {
          "base_uri": "https://localhost:8080/",
          "height": 34
        }
      },
      "source": [
        "print (\"Estimated a: {}, estimated b: {}\".format(qa.parameters['loc'].eval(), qb.parameters['loc'].eval()))"
      ],
      "execution_count": 7,
      "outputs": [
        {
          "output_type": "stream",
          "text": [
            "Estimated a: [4.0006857], estimated b: [-1.9957546]\n"
          ],
          "name": "stdout"
        }
      ]
    }
  ]
}