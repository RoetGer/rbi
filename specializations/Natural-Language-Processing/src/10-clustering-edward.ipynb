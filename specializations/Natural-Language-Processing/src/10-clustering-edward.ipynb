{
  "nbformat": 4,
  "nbformat_minor": 0,
  "metadata": {
    "colab": {
      "name": "10-clustering-edward.ipynb",
      "provenance": []
    },
    "kernelspec": {
      "name": "python3",
      "display_name": "Python 3"
    }
  },
  "cells": [
    {
      "cell_type": "markdown",
      "metadata": {
        "id": "9qgTZHcp2en1"
      },
      "source": [
        "# Gaussian mixture approach to clustering"
      ]
    },
    {
      "cell_type": "markdown",
      "metadata": {
        "id": "Go46jKCyssIg"
      },
      "source": [
        "## Install edward"
      ]
    },
    {
      "cell_type": "code",
      "metadata": {
        "id": "0usfbrUX75Xi"
      },
      "source": [
        "!pip install tensorflow==1.5.0\n",
        "!pip install edward"
      ],
      "execution_count": null,
      "outputs": []
    },
    {
      "cell_type": "markdown",
      "metadata": {
        "id": "5Gjct8WIsy2j"
      },
      "source": [
        "## Generate artificial data set"
      ]
    },
    {
      "cell_type": "code",
      "metadata": {
        "id": "QIO7wZF2sv92"
      },
      "source": [
        "import numpy as np\n",
        "import matplotlib.pyplot as plt\n",
        "\n",
        "N = 500  # number of data points\n",
        "K = 2  # number of components\n",
        "D = 2  # dimensionality of data\n",
        "\n",
        "pi = np.array([0.4, 0.6])\n",
        "mus = [[1, 1], [-1, -1]]\n",
        "stds = [[0.1, 0.1], [0.1, 0.1]]\n",
        "x_train = np.zeros((N, 2), dtype=np.float32)\n",
        "for n in range(N):\n",
        "  k = np.argmax(np.random.multinomial(1, pi))\n",
        "  x_train[n, :] = np.random.multivariate_normal(mus[k], np.diag(stds[k]))"
      ],
      "execution_count": 2,
      "outputs": []
    },
    {
      "cell_type": "code",
      "metadata": {
        "id": "f6_4XivGtm-H",
        "outputId": "9ad2b878-789b-43ea-d4c4-7b01f671899e",
        "colab": {
          "base_uri": "https://localhost:8080/",
          "height": 281
        }
      },
      "source": [
        "plt.scatter(x_train[:, 0], x_train[:, 1])\n",
        "plt.axis([-3, 3, -3, 3])\n",
        "plt.title(\"Simulated dataset\")\n",
        "plt.show()"
      ],
      "execution_count": 3,
      "outputs": [
        {
          "output_type": "display_data",
          "data": {
            "image/png": "[encoded data removed]",
            "text/plain": [
              "<Figure size 432x288 with 1 Axes>"
            ]
          },
          "metadata": {
            "tags": [],
            "needs_background": "light"
          }
        }
      ]
    },
    {
      "cell_type": "markdown",
      "metadata": {
        "id": "II5abEJNsvis"
      },
      "source": [
        "## Define the generative model"
      ]
    },
    {
      "cell_type": "code",
      "metadata": {
        "id": "rhOKkbzguOwQ"
      },
      "source": [
        "from edward.models import Dirichlet, InverseGamma, MultivariateNormalDiag, Normal, ParamMixture\n",
        "import tensorflow as tf\n",
        "\n",
        "pi = Dirichlet(tf.ones(K))\n",
        "mu = Normal(tf.zeros(D), tf.ones(D), sample_shape=K)\n",
        "sigmasq = InverseGamma(tf.ones(D), tf.ones(D), sample_shape=K)\n",
        "x = ParamMixture(pi, {'loc': mu, 'scale_diag': tf.sqrt(sigmasq)},\n",
        "                 MultivariateNormalDiag,\n",
        "                 sample_shape=N)\n",
        "z = x.cat"
      ],
      "execution_count": null,
      "outputs": []
    },
    {
      "cell_type": "markdown",
      "metadata": {
        "id": "TPtVNHLm0PDq"
      },
      "source": [
        "## Gibbs sampling\n",
        "\n",
        "To be able to do Gibbs sampling in Edward we need to define Empricial distributions for our posteriors."
      ]
    },
    {
      "cell_type": "code",
      "metadata": {
        "id": "Vs9DsdBx0i3M"
      },
      "source": [
        "import edward as ed\n",
        "from edward.models import Empirical\n",
        "\n",
        "T = 1000  # number of samples\n",
        "\n",
        "qpi = Empirical(tf.get_variable(\n",
        "    \"qpi/params\", [T, K],\n",
        "    initializer=tf.constant_initializer(1.0 / K)))\n",
        "qmu = Empirical(tf.get_variable(\n",
        "    \"qmu/params\", [T, K, D],\n",
        "    initializer=tf.zeros_initializer()))\n",
        "qsigmasq = Empirical(tf.get_variable(\n",
        "    \"qsigmasq/params\", [T, K, D],\n",
        "    initializer=tf.ones_initializer()))\n",
        "qz = Empirical(tf.get_variable(\n",
        "    \"qz/params\", [T, N],\n",
        "    initializer=tf.zeros_initializer(),\n",
        "    dtype=tf.int32))"
      ],
      "execution_count": 5,
      "outputs": []
    },
    {
      "cell_type": "markdown",
      "metadata": {
        "id": "q0BToQyN15_A"
      },
      "source": [
        "Run the Gibbs sampling."
      ]
    },
    {
      "cell_type": "code",
      "metadata": {
        "id": "JBqaeqTL2JxC"
      },
      "source": [
        "inference = ed.Gibbs({pi: qpi, mu: qmu, sigmasq: qsigmasq, z: qz}, data={x: x_train})\n",
        "\n",
        "inference.run()\n"
      ],
      "execution_count": null,
      "outputs": []
    },
    {
      "cell_type": "markdown",
      "metadata": {
        "id": "W_RucHc52Lm1"
      },
      "source": [
        "Sample from the mean posterior and estimate cluster centres."
      ]
    },
    {
      "cell_type": "code",
      "metadata": {
        "id": "vZUtAoxnGcxb",
        "outputId": "065eb82e-6a4f-419b-dfb4-6bab03676846",
        "colab": {
          "base_uri": "https://localhost:8080/"
        }
      },
      "source": [
        "cluster_means = tf.reduce_mean(qmu.sample(1000), 0).eval()\n",
        "print(cluster_means)"
      ],
      "execution_count": 7,
      "outputs": [
        {
          "output_type": "stream",
          "text": [
            "[[-0.98807234 -0.99930155]\n",
            " [ 0.98511505  0.99298984]]\n"
          ],
          "name": "stdout"
        }
      ]
    }
  ]
}