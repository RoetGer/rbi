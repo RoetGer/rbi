{
  "nbformat": 4,
  "nbformat_minor": 0,
  "metadata": {
    "colab": {
      "name": "12-Recommendation-assignment.ipynb",
      "provenance": []
    },
    "kernelspec": {
      "name": "python3",
      "display_name": "Python 3"
    },
    "accelerator": "GPU"
  },
  "cells": [
    {
      "cell_type": "markdown",
      "metadata": {
        "id": "r5TmotH9eX_a"
      },
      "source": [
        "#Book Recommendation\n",
        "\n",
        "The goal of this task is to implement a simple book recommendation system using embeddings in neural networks. \n",
        "\n",
        "We use the [Kaggle Goodbooks](https://www.kaggle.com/zygmunt/goodbooks-10k) data set.\n"
      ]
    },
    {
      "cell_type": "markdown",
      "metadata": {
        "id": "mqMw-mykk6JE"
      },
      "source": [
        "## Read ratings"
      ]
    },
    {
      "cell_type": "code",
      "metadata": {
        "id": "KjyoylI1eZ3L",
        "outputId": "16402c69-253f-4b96-d27a-af67516db454",
        "colab": {
          "base_uri": "https://localhost:8080/",
          "height": 204
        }
      },
      "source": [
        "import pandas as pd\n",
        "ratings = pd.read_csv('https://github.com/mlcollege/rbi/raw/master/specializations/Deep-Learning/data/ratings.csv', sep=',')\n",
        "ratings.head()"
      ],
      "execution_count": 1,
      "outputs": [
        {
          "output_type": "execute_result",
          "data": {
            "text/html": [
              "<div>\n",
              "<style scoped>\n",
              "    .dataframe tbody tr th:only-of-type {\n",
              "        vertical-align: middle;\n",
              "    }\n",
              "\n",
              "    .dataframe tbody tr th {\n",
              "        vertical-align: top;\n",
              "    }\n",
              "\n",
              "    .dataframe thead th {\n",
              "        text-align: right;\n",
              "    }\n",
              "</style>\n",
              "<table border=\"1\" class=\"dataframe\">\n",
              "  <thead>\n",
              "    <tr style=\"text-align: right;\">\n",
              "      <th></th>\n",
              "      <th>book_id</th>\n",
              "      <th>user_id</th>\n",
              "      <th>rating</th>\n",
              "    </tr>\n",
              "  </thead>\n",
              "  <tbody>\n",
              "    <tr>\n",
              "      <th>0</th>\n",
              "      <td>1</td>\n",
              "      <td>314</td>\n",
              "      <td>5</td>\n",
              "    </tr>\n",
              "    <tr>\n",
              "      <th>1</th>\n",
              "      <td>1</td>\n",
              "      <td>439</td>\n",
              "      <td>3</td>\n",
              "    </tr>\n",
              "    <tr>\n",
              "      <th>2</th>\n",
              "      <td>1</td>\n",
              "      <td>588</td>\n",
              "      <td>5</td>\n",
              "    </tr>\n",
              "    <tr>\n",
              "      <th>3</th>\n",
              "      <td>1</td>\n",
              "      <td>1169</td>\n",
              "      <td>4</td>\n",
              "    </tr>\n",
              "    <tr>\n",
              "      <th>4</th>\n",
              "      <td>1</td>\n",
              "      <td>1185</td>\n",
              "      <td>4</td>\n",
              "    </tr>\n",
              "  </tbody>\n",
              "</table>\n",
              "</div>"
            ],
            "text/plain": [
              "   book_id  user_id  rating\n",
              "0        1      314       5\n",
              "1        1      439       3\n",
              "2        1      588       5\n",
              "3        1     1169       4\n",
              "4        1     1185       4"
            ]
          },
          "metadata": {
            "tags": []
          },
          "execution_count": 1
        }
      ]
    },
    {
      "cell_type": "markdown",
      "metadata": {
        "id": "Hy6wypqNlBA2"
      },
      "source": [
        "## Read books"
      ]
    },
    {
      "cell_type": "code",
      "metadata": {
        "id": "gCQDNZ4zlDlO",
        "outputId": "b34ab6dd-215d-44b9-eac9-7f7745007476",
        "colab": {
          "base_uri": "https://localhost:8080/",
          "height": 428
        }
      },
      "source": [
        "books = pd.read_csv('https://github.com/mlcollege/rbi/raw/master/specializations/Deep-Learning/data/books.csv', sep=',')\n",
        "books.head()"
      ],
      "execution_count": 2,
      "outputs": [
        {
          "output_type": "execute_result",
          "data": {
            "text/html": [
              "<div>\n",
              "<style scoped>\n",
              "    .dataframe tbody tr th:only-of-type {\n",
              "        vertical-align: middle;\n",
              "    }\n",
              "\n",
              "    .dataframe tbody tr th {\n",
              "        vertical-align: top;\n",
              "    }\n",
              "\n",
              "    .dataframe thead th {\n",
              "        text-align: right;\n",
              "    }\n",
              "</style>\n",
              "<table border=\"1\" class=\"dataframe\">\n",
              "  <thead>\n",
              "    <tr style=\"text-align: right;\">\n",
              "      <th></th>\n",
              "      <th>id</th>\n",
              "      <th>book_id</th>\n",
              "      <th>best_book_id</th>\n",
              "      <th>work_id</th>\n",
              "      <th>books_count</th>\n",
              "      <th>isbn</th>\n",
              "      <th>isbn13</th>\n",
              "      <th>authors</th>\n",
              "      <th>original_publication_year</th>\n",
              "      <th>original_title</th>\n",
              "      <th>title</th>\n",
              "      <th>language_code</th>\n",
              "      <th>average_rating</th>\n",
              "      <th>ratings_count</th>\n",
              "      <th>work_ratings_count</th>\n",
              "      <th>work_text_reviews_count</th>\n",
              "      <th>ratings_1</th>\n",
              "      <th>ratings_2</th>\n",
              "      <th>ratings_3</th>\n",
              "      <th>ratings_4</th>\n",
              "      <th>ratings_5</th>\n",
              "      <th>image_url</th>\n",
              "      <th>small_image_url</th>\n",
              "    </tr>\n",
              "  </thead>\n",
              "  <tbody>\n",
              "    <tr>\n",
              "      <th>0</th>\n",
              "      <td>1</td>\n",
              "      <td>2767052</td>\n",
              "      <td>2767052</td>\n",
              "      <td>2792775</td>\n",
              "      <td>272</td>\n",
              "      <td>439023483</td>\n",
              "      <td>9.780439e+12</td>\n",
              "      <td>Suzanne Collins</td>\n",
              "      <td>2008.0</td>\n",
              "      <td>The Hunger Games</td>\n",
              "      <td>The Hunger Games (The Hunger Games, #1)</td>\n",
              "      <td>eng</td>\n",
              "      <td>4.34</td>\n",
              "      <td>4780653</td>\n",
              "      <td>4942365</td>\n",
              "      <td>155254</td>\n",
              "      <td>66715</td>\n",
              "      <td>127936</td>\n",
              "      <td>560092</td>\n",
              "      <td>1481305</td>\n",
              "      <td>2706317</td>\n",
              "      <td>https://images.gr-assets.com/books/1447303603m...</td>\n",
              "      <td>https://images.gr-assets.com/books/1447303603s...</td>\n",
              "    </tr>\n",
              "    <tr>\n",
              "      <th>1</th>\n",
              "      <td>2</td>\n",
              "      <td>3</td>\n",
              "      <td>3</td>\n",
              "      <td>4640799</td>\n",
              "      <td>491</td>\n",
              "      <td>439554934</td>\n",
              "      <td>9.780440e+12</td>\n",
              "      <td>J.K. Rowling, Mary GrandPré</td>\n",
              "      <td>1997.0</td>\n",
              "      <td>Harry Potter and the Philosopher's Stone</td>\n",
              "      <td>Harry Potter and the Sorcerer's Stone (Harry P...</td>\n",
              "      <td>eng</td>\n",
              "      <td>4.44</td>\n",
              "      <td>4602479</td>\n",
              "      <td>4800065</td>\n",
              "      <td>75867</td>\n",
              "      <td>75504</td>\n",
              "      <td>101676</td>\n",
              "      <td>455024</td>\n",
              "      <td>1156318</td>\n",
              "      <td>3011543</td>\n",
              "      <td>https://images.gr-assets.com/books/1474154022m...</td>\n",
              "      <td>https://images.gr-assets.com/books/1474154022s...</td>\n",
              "    </tr>\n",
              "    <tr>\n",
              "      <th>2</th>\n",
              "      <td>3</td>\n",
              "      <td>41865</td>\n",
              "      <td>41865</td>\n",
              "      <td>3212258</td>\n",
              "      <td>226</td>\n",
              "      <td>316015849</td>\n",
              "      <td>9.780316e+12</td>\n",
              "      <td>Stephenie Meyer</td>\n",
              "      <td>2005.0</td>\n",
              "      <td>Twilight</td>\n",
              "      <td>Twilight (Twilight, #1)</td>\n",
              "      <td>en-US</td>\n",
              "      <td>3.57</td>\n",
              "      <td>3866839</td>\n",
              "      <td>3916824</td>\n",
              "      <td>95009</td>\n",
              "      <td>456191</td>\n",
              "      <td>436802</td>\n",
              "      <td>793319</td>\n",
              "      <td>875073</td>\n",
              "      <td>1355439</td>\n",
              "      <td>https://images.gr-assets.com/books/1361039443m...</td>\n",
              "      <td>https://images.gr-assets.com/books/1361039443s...</td>\n",
              "    </tr>\n",
              "    <tr>\n",
              "      <th>3</th>\n",
              "      <td>4</td>\n",
              "      <td>2657</td>\n",
              "      <td>2657</td>\n",
              "      <td>3275794</td>\n",
              "      <td>487</td>\n",
              "      <td>61120081</td>\n",
              "      <td>9.780061e+12</td>\n",
              "      <td>Harper Lee</td>\n",
              "      <td>1960.0</td>\n",
              "      <td>To Kill a Mockingbird</td>\n",
              "      <td>To Kill a Mockingbird</td>\n",
              "      <td>eng</td>\n",
              "      <td>4.25</td>\n",
              "      <td>3198671</td>\n",
              "      <td>3340896</td>\n",
              "      <td>72586</td>\n",
              "      <td>60427</td>\n",
              "      <td>117415</td>\n",
              "      <td>446835</td>\n",
              "      <td>1001952</td>\n",
              "      <td>1714267</td>\n",
              "      <td>https://images.gr-assets.com/books/1361975680m...</td>\n",
              "      <td>https://images.gr-assets.com/books/1361975680s...</td>\n",
              "    </tr>\n",
              "    <tr>\n",
              "      <th>4</th>\n",
              "      <td>5</td>\n",
              "      <td>4671</td>\n",
              "      <td>4671</td>\n",
              "      <td>245494</td>\n",
              "      <td>1356</td>\n",
              "      <td>743273567</td>\n",
              "      <td>9.780743e+12</td>\n",
              "      <td>F. Scott Fitzgerald</td>\n",
              "      <td>1925.0</td>\n",
              "      <td>The Great Gatsby</td>\n",
              "      <td>The Great Gatsby</td>\n",
              "      <td>eng</td>\n",
              "      <td>3.89</td>\n",
              "      <td>2683664</td>\n",
              "      <td>2773745</td>\n",
              "      <td>51992</td>\n",
              "      <td>86236</td>\n",
              "      <td>197621</td>\n",
              "      <td>606158</td>\n",
              "      <td>936012</td>\n",
              "      <td>947718</td>\n",
              "      <td>https://images.gr-assets.com/books/1490528560m...</td>\n",
              "      <td>https://images.gr-assets.com/books/1490528560s...</td>\n",
              "    </tr>\n",
              "  </tbody>\n",
              "</table>\n",
              "</div>"
            ],
            "text/plain": [
              "   id  ...                                    small_image_url\n",
              "0   1  ...  https://images.gr-assets.com/books/1447303603s...\n",
              "1   2  ...  https://images.gr-assets.com/books/1474154022s...\n",
              "2   3  ...  https://images.gr-assets.com/books/1361039443s...\n",
              "3   4  ...  https://images.gr-assets.com/books/1361975680s...\n",
              "4   5  ...  https://images.gr-assets.com/books/1490528560s...\n",
              "\n",
              "[5 rows x 23 columns]"
            ]
          },
          "metadata": {
            "tags": []
          },
          "execution_count": 2
        }
      ]
    },
    {
      "cell_type": "markdown",
      "metadata": {
        "id": "qABRcJ3tlbPO"
      },
      "source": [
        "## Prepare input data"
      ]
    },
    {
      "cell_type": "code",
      "metadata": {
        "id": "kANceGwZleUW",
        "outputId": "591e17d6-e79b-4241-f34f-06bbe62f2bfa",
        "colab": {
          "base_uri": "https://localhost:8080/",
          "height": 238
        }
      },
      "source": [
        "# merge ratings and book titles \n",
        "data = pd.merge(ratings, books[['id', 'title']], left_on='book_id', right_on='id')[['user_id', 'book_id', 'rating', 'title']]\n",
        "\n",
        "# create new book and user ids\n",
        "user_ids_map = dict([(old, new) for new, old in enumerate(data['user_id'].unique())])\n",
        "book_ids_map = dict([(old, new) for new, old in enumerate(data['book_id'].unique())])\n",
        "data['user_id'] = data['user_id'].map(lambda x: user_ids_map[x])\n",
        "data['book_id'] = data['book_id'].map(lambda x: book_ids_map[x])\n",
        "\n",
        "# count users and books\n",
        "user_count = len(data['user_id'].unique())\n",
        "book_count = len(data['book_id'].unique())\n",
        "print (\"Unique users: {}\".format(user_count))\n",
        "print (\"Unique books: {}\".format(book_count))\n",
        "\n",
        "# preview the data\n",
        "data.head()"
      ],
      "execution_count": 3,
      "outputs": [
        {
          "output_type": "stream",
          "text": [
            "Unique users: 53424\n",
            "Unique books: 10000\n"
          ],
          "name": "stdout"
        },
        {
          "output_type": "execute_result",
          "data": {
            "text/html": [
              "<div>\n",
              "<style scoped>\n",
              "    .dataframe tbody tr th:only-of-type {\n",
              "        vertical-align: middle;\n",
              "    }\n",
              "\n",
              "    .dataframe tbody tr th {\n",
              "        vertical-align: top;\n",
              "    }\n",
              "\n",
              "    .dataframe thead th {\n",
              "        text-align: right;\n",
              "    }\n",
              "</style>\n",
              "<table border=\"1\" class=\"dataframe\">\n",
              "  <thead>\n",
              "    <tr style=\"text-align: right;\">\n",
              "      <th></th>\n",
              "      <th>user_id</th>\n",
              "      <th>book_id</th>\n",
              "      <th>rating</th>\n",
              "      <th>title</th>\n",
              "    </tr>\n",
              "  </thead>\n",
              "  <tbody>\n",
              "    <tr>\n",
              "      <th>0</th>\n",
              "      <td>0</td>\n",
              "      <td>0</td>\n",
              "      <td>5</td>\n",
              "      <td>The Hunger Games (The Hunger Games, #1)</td>\n",
              "    </tr>\n",
              "    <tr>\n",
              "      <th>1</th>\n",
              "      <td>1</td>\n",
              "      <td>0</td>\n",
              "      <td>3</td>\n",
              "      <td>The Hunger Games (The Hunger Games, #1)</td>\n",
              "    </tr>\n",
              "    <tr>\n",
              "      <th>2</th>\n",
              "      <td>2</td>\n",
              "      <td>0</td>\n",
              "      <td>5</td>\n",
              "      <td>The Hunger Games (The Hunger Games, #1)</td>\n",
              "    </tr>\n",
              "    <tr>\n",
              "      <th>3</th>\n",
              "      <td>3</td>\n",
              "      <td>0</td>\n",
              "      <td>4</td>\n",
              "      <td>The Hunger Games (The Hunger Games, #1)</td>\n",
              "    </tr>\n",
              "    <tr>\n",
              "      <th>4</th>\n",
              "      <td>4</td>\n",
              "      <td>0</td>\n",
              "      <td>4</td>\n",
              "      <td>The Hunger Games (The Hunger Games, #1)</td>\n",
              "    </tr>\n",
              "  </tbody>\n",
              "</table>\n",
              "</div>"
            ],
            "text/plain": [
              "   user_id  book_id  rating                                    title\n",
              "0        0        0       5  The Hunger Games (The Hunger Games, #1)\n",
              "1        1        0       3  The Hunger Games (The Hunger Games, #1)\n",
              "2        2        0       5  The Hunger Games (The Hunger Games, #1)\n",
              "3        3        0       4  The Hunger Games (The Hunger Games, #1)\n",
              "4        4        0       4  The Hunger Games (The Hunger Games, #1)"
            ]
          },
          "metadata": {
            "tags": []
          },
          "execution_count": 3
        }
      ]
    },
    {
      "cell_type": "code",
      "metadata": {
        "id": "3d81ddAHffEf"
      },
      "source": [
        "from sklearn.model_selection import train_test_split\n",
        "train, test = train_test_split(data, test_size=0.2)"
      ],
      "execution_count": 4,
      "outputs": []
    },
    {
      "cell_type": "markdown",
      "metadata": {
        "id": "bhkoJ70Qf9R3"
      },
      "source": [
        "## Define the model\n",
        "\n",
        "This model simply computes dot product of a book dense vector with a user dense vector. Your task here is to replace this dot product with a sequence of Dense layers in order to add complexity to the model and get better results. Before adding Dense layers, you will need to concatenate both embeddings using the Concatenate layer."
      ]
    },
    {
      "cell_type": "code",
      "metadata": {
        "id": "WT1sO9-Tf0cI",
        "outputId": "e3e45e30-cbee-4cdd-8868-772e5237f66c",
        "colab": {
          "base_uri": "https://localhost:8080/",
          "height": 425
        }
      },
      "source": [
        "from keras.layers import Input, Embedding, Flatten, Dot, Concatenate, Dense\n",
        "from keras.models import Model\n",
        "\n",
        "book_input = Input(shape=(1))\n",
        "book_embedding = Embedding(book_count, 6)(book_input)\n",
        "book_vec = Flatten()(book_embedding)\n",
        "\n",
        "user_input = Input(shape=(1))\n",
        "user_embedding = Embedding(user_count, 6)(user_input)\n",
        "user_vec = Flatten()(user_embedding)\n",
        "\n",
        "#TODO Replace Dot product with a sequence of Dense layers\n",
        "prod = Dot(axes=1)([book_vec, user_vec])\n",
        "\n",
        "model = Model([user_input, book_input], prod)\n",
        "model.compile('adam', 'mse')\n",
        "\n",
        "print (model.summary())"
      ],
      "execution_count": 5,
      "outputs": [
        {
          "output_type": "stream",
          "text": [
            "Model: \"functional_1\"\n",
            "__________________________________________________________________________________________________\n",
            "Layer (type)                    Output Shape         Param #     Connected to                     \n",
            "==================================================================================================\n",
            "input_1 (InputLayer)            [(None, 1)]          0                                            \n",
            "__________________________________________________________________________________________________\n",
            "input_2 (InputLayer)            [(None, 1)]          0                                            \n",
            "__________________________________________________________________________________________________\n",
            "embedding (Embedding)           (None, 1, 6)         60000       input_1[0][0]                    \n",
            "__________________________________________________________________________________________________\n",
            "embedding_1 (Embedding)         (None, 1, 6)         320544      input_2[0][0]                    \n",
            "__________________________________________________________________________________________________\n",
            "flatten (Flatten)               (None, 6)            0           embedding[0][0]                  \n",
            "__________________________________________________________________________________________________\n",
            "flatten_1 (Flatten)             (None, 6)            0           embedding_1[0][0]                \n",
            "__________________________________________________________________________________________________\n",
            "dot (Dot)                       (None, 1)            0           flatten[0][0]                    \n",
            "                                                                 flatten_1[0][0]                  \n",
            "==================================================================================================\n",
            "Total params: 380,544\n",
            "Trainable params: 380,544\n",
            "Non-trainable params: 0\n",
            "__________________________________________________________________________________________________\n",
            "None\n"
          ],
          "name": "stdout"
        }
      ]
    },
    {
      "cell_type": "markdown",
      "metadata": {
        "id": "HXbfuWTigdtM"
      },
      "source": [
        "## Train the model"
      ]
    },
    {
      "cell_type": "code",
      "metadata": {
        "id": "D-yFxFeugcwI",
        "outputId": "3cdb7083-ff40-41bb-b9d7-2081295e5a47",
        "colab": {
          "base_uri": "https://localhost:8080/",
          "height": 714
        }
      },
      "source": [
        "model.fit([train['user_id'], train['book_id']], [train['rating']], \n",
        "          validation_data=([test['user_id'], test['book_id']], [test['rating']]),\n",
        "          batch_size=512, epochs=20, verbose=1)"
      ],
      "execution_count": 6,
      "outputs": [
        {
          "output_type": "stream",
          "text": [
            "Epoch 1/20\n",
            "1534/1534 [==============================] - 11s 7ms/step - loss: 15.6668 - val_loss: 14.7821\n",
            "Epoch 2/20\n",
            "1534/1534 [==============================] - 11s 7ms/step - loss: 11.5023 - val_loss: 8.1296\n",
            "Epoch 3/20\n",
            "1534/1534 [==============================] - 11s 7ms/step - loss: 5.5130 - val_loss: 3.8641\n",
            "Epoch 4/20\n",
            "1534/1534 [==============================] - 11s 7ms/step - loss: 2.6988 - val_loss: 2.2533\n",
            "Epoch 5/20\n",
            "1534/1534 [==============================] - 11s 7ms/step - loss: 1.6475 - val_loss: 1.6203\n",
            "Epoch 6/20\n",
            "1534/1534 [==============================] - 11s 7ms/step - loss: 1.2066 - val_loss: 1.3246\n",
            "Epoch 7/20\n",
            "1534/1534 [==============================] - 11s 7ms/step - loss: 0.9893 - val_loss: 1.1622\n",
            "Epoch 8/20\n",
            "1534/1534 [==============================] - 11s 7ms/step - loss: 0.8669 - val_loss: 1.0615\n",
            "Epoch 9/20\n",
            "1534/1534 [==============================] - 11s 7ms/step - loss: 0.7908 - val_loss: 0.9938\n",
            "Epoch 10/20\n",
            "1534/1534 [==============================] - 10s 7ms/step - loss: 0.7402 - val_loss: 0.9460\n",
            "Epoch 11/20\n",
            "1534/1534 [==============================] - 10s 7ms/step - loss: 0.7050 - val_loss: 0.9104\n",
            "Epoch 12/20\n",
            "1534/1534 [==============================] - 10s 7ms/step - loss: 0.6796 - val_loss: 0.8843\n",
            "Epoch 13/20\n",
            "1534/1534 [==============================] - 10s 7ms/step - loss: 0.6607 - val_loss: 0.8642\n",
            "Epoch 14/20\n",
            "1534/1534 [==============================] - 10s 7ms/step - loss: 0.6461 - val_loss: 0.8486\n",
            "Epoch 15/20\n",
            "1534/1534 [==============================] - 11s 7ms/step - loss: 0.6345 - val_loss: 0.8359\n",
            "Epoch 16/20\n",
            "1534/1534 [==============================] - 11s 7ms/step - loss: 0.6250 - val_loss: 0.8262\n",
            "Epoch 17/20\n",
            "1534/1534 [==============================] - 11s 7ms/step - loss: 0.6170 - val_loss: 0.8185\n",
            "Epoch 18/20\n",
            "1534/1534 [==============================] - 11s 7ms/step - loss: 0.6097 - val_loss: 0.8126\n",
            "Epoch 19/20\n",
            "1534/1534 [==============================] - 11s 7ms/step - loss: 0.6033 - val_loss: 0.8081\n",
            "Epoch 20/20\n",
            "1534/1534 [==============================] - 11s 7ms/step - loss: 0.5970 - val_loss: 0.8049\n"
          ],
          "name": "stdout"
        },
        {
          "output_type": "execute_result",
          "data": {
            "text/plain": [
              "<tensorflow.python.keras.callbacks.History at 0x7f0c30119cf8>"
            ]
          },
          "metadata": {
            "tags": []
          },
          "execution_count": 6
        }
      ]
    }
  ]
}