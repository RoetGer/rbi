{
  "nbformat": 4,
  "nbformat_minor": 0,
  "metadata": {
    "colab": {
      "name": "16-Autokeras.ipynb",
      "provenance": []
    },
    "kernelspec": {
      "name": "python3",
      "display_name": "Python 3"
    },
    "accelerator": "GPU"
  },
  "cells": [
    {
      "cell_type": "markdown",
      "metadata": {
        "id": "U7zG1k_joiEB"
      },
      "source": [
        "# AutoML with AutoKeras\n",
        "\n",
        "AutoKeras is an opensource AutoML framework based on Tensorflow/Keras. See the [documentation](https://autokeras.com/) for detailed information."
      ]
    },
    {
      "cell_type": "markdown",
      "metadata": {
        "id": "qba0OoVmooRt"
      },
      "source": [
        "## Install AutoKeras"
      ]
    },
    {
      "cell_type": "code",
      "metadata": {
        "id": "7jKX4CrVhUNC"
      },
      "source": [
        "!pip install git+https://github.com/keras-team/keras-tuner.git@1.0.2rc3\n",
        "!pip install autokeras"
      ],
      "execution_count": null,
      "outputs": []
    },
    {
      "cell_type": "markdown",
      "metadata": {
        "id": "6SS9ow3aoulH"
      },
      "source": [
        "## Load the MNIST Dataset\n",
        "\n",
        "The MNIST data set is a database of handwritten digits that is commonly used for training various image processing systems. The goal if this task is to implement a classifier of handwritten digits using AutoKeras.\n",
        "\n",
        "![Mnist data set](https://github.com/jirimaterna/image-processing-2days/blob/master/images/mnist-examples.png?raw=1)"
      ]
    },
    {
      "cell_type": "code",
      "metadata": {
        "id": "s6jCF87LhYP1"
      },
      "source": [
        "from tensorflow.keras.datasets import mnist\n",
        "import autokeras as ak\n",
        "\n",
        "(x_train, y_train), (x_test, y_test) = mnist.load_data()\n",
        "print(x_train.shape) \n",
        "print(y_train.shape)"
      ],
      "execution_count": null,
      "outputs": []
    },
    {
      "cell_type": "markdown",
      "metadata": {
        "id": "3b-pELwgpHfb"
      },
      "source": [
        "## Search for the best architecture."
      ]
    },
    {
      "cell_type": "code",
      "metadata": {
        "id": "snbXQg0Yhw9V"
      },
      "source": [
        "clf = ak.ImageClassifier( overwrite=True, max_trials=1)\n",
        "#clf = ak.ImageClassifier( overwrite=True, max_trials=20)\n",
        "clf.fit(x_train, y_train, validation_data=(x_test, y_test), epochs=5)"
      ],
      "execution_count": null,
      "outputs": []
    },
    {
      "cell_type": "markdown",
      "metadata": {
        "id": "q8SAQMK0rctR"
      },
      "source": [
        "## Search in vanilla models only"
      ]
    },
    {
      "cell_type": "code",
      "metadata": {
        "id": "XReFRFN6rlGp"
      },
      "source": [
        "input_node = ak.ImageInput()\n",
        "output_node = ak.ImageBlock(block_type=\"vanilla\", normalize=True, augment=False, )(input_node)\n",
        "output_node = ak.ClassificationHead()(output_node)\n",
        "\n",
        "clf = ak.AutoModel(inputs=input_node, outputs=output_node, overwrite=True, max_trials=20)\n",
        "clf.fit(x_train, y_train, epochs=5)"
      ],
      "execution_count": null,
      "outputs": []
    },
    {
      "cell_type": "markdown",
      "metadata": {
        "id": "BfQwBXatpamy"
      },
      "source": [
        "## Export the neural network model"
      ]
    },
    {
      "cell_type": "code",
      "metadata": {
        "id": "RGgv6wJq0Jld"
      },
      "source": [
        "model = clf.export_model()\n",
        "print (model.summary())"
      ],
      "execution_count": null,
      "outputs": []
    },
    {
      "cell_type": "markdown",
      "metadata": {
        "id": "4iZ1iN7Gz6ar"
      },
      "source": [
        "## Export train the model for more epochs and evaluate"
      ]
    },
    {
      "cell_type": "code",
      "metadata": {
        "id": "9ZbKZUBeiBHd"
      },
      "source": [
        "import numpy as np\n",
        "from tensorflow.python.keras.utils import np_utils\n",
        "\n",
        "model.compile(loss='categorical_crossentropy', optimizer='adam', metrics=['accuracy'])\n",
        "\n",
        "n_classes = 10\n",
        "y_train_oh = np_utils.to_categorical(y_train, n_classes)\n",
        "y_test_oh = np_utils.to_categorical(y_test, n_classes)\n",
        "\n",
        "model.fit(x_train, y_train_oh, validation_data=(x_test, y_test_oh), epochs=20)"
      ],
      "execution_count": null,
      "outputs": []
    },
    {
      "cell_type": "code",
      "metadata": {
        "id": "l5ciUL98rR1X"
      },
      "source": [
        "from sklearn import metrics\n",
        "from sklearn.metrics import accuracy_score\n",
        "\n",
        "y_pred = model.predict(x_test)\n",
        "y_pred_class = np.argmax(y_pred, axis=1)\n",
        "print (\"Test accuracy: {:.4f}\".format(accuracy_score(y_test, y_pred_class)))\n",
        "print ()\n",
        "print(metrics.classification_report(y_test, y_pred_class, digits=4))"
      ],
      "execution_count": null,
      "outputs": []
    }
  ]
}